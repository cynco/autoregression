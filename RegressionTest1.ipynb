{
 "cells": [
  {
   "cell_type": "code",
   "execution_count": 1,
   "metadata": {
    "collapsed": true
   },
   "outputs": [],
   "source": [
    "import numpy as np \n",
    "import matplotlib.pyplot as plt\n",
    "import pandas as pd\n",
    "from   sklearn import linear_model\n",
    "import warnings\n",
    "warnings.filterwarnings(\"ignore\")"
   ]
  },
  {
   "cell_type": "markdown",
   "metadata": {},
   "source": [
    "Load data\n",
    "=========="
   ]
  },
  {
   "cell_type": "code",
   "execution_count": 2,
   "metadata": {
    "collapsed": true
   },
   "outputs": [],
   "source": [
    "# Load data GlobalTemperatures\n",
    "colnames    = ['dt', 'LandAverageTemperature', 'LandAverageTemperatureUncertainty']\n",
    "newnames    = ['dt', 'at', 'atu']\n",
    "datatypes   = {'dt': 'str','at':'float32','atu':'float32'}\n",
    "temperature = pd.read_csv(\"../input/GlobalTemperatures1900.csv\", \n",
    "                            usecols = colnames, \n",
    "                            dtype = datatypes)\n",
    "temperature.columns = newnames\n",
    "temperature = temperature[pd.notnull(temperature['at'])]\n",
    "temperature['dt'] = temperature['dt'].map(lambda x: int(x.split('-')[0]))\n",
    "group = temperature.groupby('dt').mean()\n",
    "\n"
   ]
  },
  {
   "cell_type": "markdown",
   "metadata": {},
   "source": [
    "Plot temperature data\n",
    "======="
   ]
  },
  {
   "cell_type": "code",
   "execution_count": 3,
   "metadata": {
    "collapsed": true
   },
   "outputs": [],
   "source": [
    "plt.figure(figsize=(8,6))\n",
    "plt.scatter(group.index, group['at'], s=40, c='lightblue', alpha=0.5, linewidths=0, label='Mean Temperature')\n",
    "plt.legend(loc='upper left')\n",
    "plt.xlabel('Year')\n",
    "plt.ylabel('Temperature')\n",
    "plt.title('Mean of temperature by years')\n",
    "plt.savefig('Arintemperaturev1r1.png')"
   ]
  },
  {
   "cell_type": "markdown",
   "metadata": {},
   "source": [
    "Linear Regression using `SKLEARN`\n",
    "======="
   ]
  },
  {
   "cell_type": "code",
   "execution_count": 4,
   "metadata": {
    "collapsed": true
   },
   "outputs": [],
   "source": [
    "def addpolynomialfeatures(subX, x):\n",
    "    subX['x2'] = x**2\n",
    "    subX['x3'] = x**3\n",
    "    subX['x4'] = x**.5\n",
    "    subX['x5'] = np.sin(x)\n",
    "    subX['x6'] = np.cos(x)\n",
    "    subX['x8'] = np.log(x)"
   ]
  },
  {
   "cell_type": "code",
   "execution_count": 5,
   "metadata": {
    "collapsed": false
   },
   "outputs": [
    {
     "name": "stdout",
     "output_type": "stream",
     "text": [
      "Coefficients: \n",
      " [[  1.22177843e+03  -2.21430298e-01   2.39306673e-05  -5.53818260e+04\n",
      "   -1.98763787e-02  -2.71262123e-02  -8.01453250e+03]]\n",
      "Mean of error: 0.03\n"
     ]
    }
   ],
   "source": [
    "X         = pd.DataFrame(group.index)\n",
    "addpolynomialfeatures(X, X['dt'])\n",
    "y         = pd.DataFrame(group['at'])\n",
    "X.index   = X['dt']\n",
    "Xy        = pd.concat([X,y], axis=1)\n",
    "regresor  = linear_model.LinearRegression()\n",
    "regresor2 = linear_model.BayesianRidge(compute_score=True)\n",
    "regresor2.fit(X, y)\n",
    "predict2   = regresor2.predict(X)\n",
    "regresor.fit(X,y,5000)\n",
    "predict   = regresor.predict(X)\n",
    "print('Coefficients: \\n', regresor.coef_)\n",
    "print(\"Mean of error: %.2f\" % np.mean((predict - y) ** 2))"
   ]
  },
  {
   "cell_type": "code",
   "execution_count": 6,
   "metadata": {
    "collapsed": true
   },
   "outputs": [],
   "source": [
    "plt.figure(figsize=(8,6))\n",
    "plt.scatter(group.index, group['at'], s=40, c='lightblue', alpha=0.5, linewidths=0, label='Expected Output')\n",
    "for i in range(50):\n",
    "    sample = Xy.sample(n=40)\n",
    "    X_test = sample[Xy.columns[:-1]]\n",
    "    y_test = sample[Xy.columns[-1]]\n",
    "    regresor.fit(X_test,y_test)\n",
    "    predict   = regresor.predict(X)\n",
    "    plt.plot(group.index, predict, c='green', alpha=0.1, linewidth=2.)\n",
    "plt.legend(loc='upper left')\n",
    "plt.xlabel('Year')\n",
    "plt.ylabel('Temperature')\n",
    "plt.title('Mean of temperature by years')\n",
    "plt.savefig('Arintemperaturev1r2.png')"
   ]
  },
  {
   "cell_type": "markdown",
   "metadata": {},
   "source": [
    "Bayesian Ridge\n",
    "==========="
   ]
  },
  {
   "cell_type": "code",
   "execution_count": 7,
   "metadata": {
    "collapsed": true
   },
   "outputs": [],
   "source": [
    "plt.figure(figsize=(8,6))\n",
    "plt.scatter(group.index, group['at'], s=40, c='lightblue', alpha=0.5, linewidths=0, label='Expected Output')\n",
    "for i in range(50):\n",
    "    sample = Xy.sample(n=30)\n",
    "    X_test = sample[Xy.columns[:-1]]\n",
    "    y_test = sample[Xy.columns[-1]]\n",
    "    regresor2.fit(X_test,y_test)\n",
    "    predict2   = regresor2.predict(X)\n",
    "    plt.plot(group.index, predict2, c='green', alpha=0.1, linewidth=3.)\n",
    "plt.legend(loc='upper left')\n",
    "plt.xlabel('Year')\n",
    "plt.ylabel('Temperature')\n",
    "plt.title('Mean of temperature by years')\n",
    "plt.savefig('Arintemperaturev1r3.png')"
   ]
  },
  {
   "cell_type": "code",
   "execution_count": null,
   "metadata": {
    "collapsed": true
   },
   "outputs": [],
   "source": []
  }
 ],
 "metadata": {
  "kernelspec": {
   "display_name": "Python 3",
   "language": "python",
   "name": "python3"
  },
  "language_info": {
   "codemirror_mode": {
    "name": "ipython",
    "version": 3
   },
   "file_extension": ".py",
   "mimetype": "text/x-python",
   "name": "python",
   "nbconvert_exporter": "python",
   "pygments_lexer": "ipython3",
   "version": "3.6.0"
  }
 },
 "nbformat": 4,
 "nbformat_minor": 1
}
